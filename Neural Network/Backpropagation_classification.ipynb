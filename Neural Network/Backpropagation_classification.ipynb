{
  "nbformat": 4,
  "nbformat_minor": 0,
  "metadata": {
    "colab": {
      "provenance": []
    },
    "kernelspec": {
      "name": "python3",
      "display_name": "Python 3"
    },
    "language_info": {
      "name": "python"
    }
  },
  "cells": [
    {
      "cell_type": "code",
      "execution_count": 1,
      "metadata": {
        "id": "oIXQSGeqh69U"
      },
      "outputs": [],
      "source": [
        "import numpy as np\n",
        "import pandas as pd"
      ]
    },
    {
      "cell_type": "code",
      "source": [
        "df=pd.DataFrame([[8,8,1],[7,9,1],[6,10,0],[5,5,0]],columns=['cgpa','profile_score','placed'])"
      ],
      "metadata": {
        "id": "RZlpuPr5iFve"
      },
      "execution_count": 2,
      "outputs": []
    },
    {
      "cell_type": "code",
      "source": [
        "import tensorflow\n",
        "from tensorflow import keras\n",
        "from keras import Sequential\n",
        "from keras.layers import Dense"
      ],
      "metadata": {
        "id": "dhERxQ67jc2D"
      },
      "execution_count": 3,
      "outputs": []
    },
    {
      "cell_type": "code",
      "source": [
        "model=Sequential()\n",
        "model.add(Dense(2,activation='sigmoid',input_dim=2))\n",
        "model.add(Dense(1,activation='sigmoid'))"
      ],
      "metadata": {
        "id": "oUe8p-P2jfdv"
      },
      "execution_count": 4,
      "outputs": []
    },
    {
      "cell_type": "code",
      "source": [
        "model.summary()"
      ],
      "metadata": {
        "colab": {
          "base_uri": "https://localhost:8080/"
        },
        "id": "LSsy2nDfjoNc",
        "outputId": "e0a64a55-26c3-47c2-c8ae-36cb3914adab"
      },
      "execution_count": 5,
      "outputs": [
        {
          "output_type": "stream",
          "name": "stdout",
          "text": [
            "Model: \"sequential\"\n",
            "_________________________________________________________________\n",
            " Layer (type)                Output Shape              Param #   \n",
            "=================================================================\n",
            " dense (Dense)               (None, 2)                 6         \n",
            "                                                                 \n",
            " dense_1 (Dense)             (None, 1)                 3         \n",
            "                                                                 \n",
            "=================================================================\n",
            "Total params: 9 (36.00 Byte)\n",
            "Trainable params: 9 (36.00 Byte)\n",
            "Non-trainable params: 0 (0.00 Byte)\n",
            "_________________________________________________________________\n"
          ]
        }
      ]
    },
    {
      "cell_type": "code",
      "source": [
        "model.get_weights()"
      ],
      "metadata": {
        "colab": {
          "base_uri": "https://localhost:8080/"
        },
        "id": "cv2SRS4OjpiR",
        "outputId": "de3e1329-decc-4ce8-aeff-7b3059371e30"
      },
      "execution_count": 6,
      "outputs": [
        {
          "output_type": "execute_result",
          "data": {
            "text/plain": [
              "[array([[-1.1993455 ,  0.08637357],\n",
              "        [-1.1246998 , -0.9208051 ]], dtype=float32),\n",
              " array([0., 0.], dtype=float32),\n",
              " array([[0.11780477],\n",
              "        [0.4977553 ]], dtype=float32),\n",
              " array([0.], dtype=float32)]"
            ]
          },
          "metadata": {},
          "execution_count": 6
        }
      ]
    },
    {
      "cell_type": "code",
      "source": [
        "new_weights=[np.array([[0.1,0.1],[0.1,0.1]],dtype=np.float32),np.array([0.,0.],dtype=np.float32),np.array([[0.1],[0.1]],dtype=np.float32),np.array([0.],dtype=np.float32)]"
      ],
      "metadata": {
        "id": "0DROZbTVj1Ku"
      },
      "execution_count": 7,
      "outputs": []
    },
    {
      "cell_type": "code",
      "source": [
        "model.set_weights(new_weights)"
      ],
      "metadata": {
        "id": "_orspPtdj1Uv"
      },
      "execution_count": 8,
      "outputs": []
    },
    {
      "cell_type": "code",
      "source": [
        "model.get_weights()"
      ],
      "metadata": {
        "colab": {
          "base_uri": "https://localhost:8080/"
        },
        "id": "2t3YjMPTj8ZZ",
        "outputId": "09871464-12ea-460e-ecd3-17f6a6d49500"
      },
      "execution_count": 9,
      "outputs": [
        {
          "output_type": "execute_result",
          "data": {
            "text/plain": [
              "[array([[0.1, 0.1],\n",
              "        [0.1, 0.1]], dtype=float32),\n",
              " array([0., 0.], dtype=float32),\n",
              " array([[0.1],\n",
              "        [0.1]], dtype=float32),\n",
              " array([0.], dtype=float32)]"
            ]
          },
          "metadata": {},
          "execution_count": 9
        }
      ]
    },
    {
      "cell_type": "code",
      "source": [
        "optimizer=keras.optimizers.Adam(learning_rate=0.001)\n",
        "model.compile(loss='binary_crossentropy',optimizer=optimizer)"
      ],
      "metadata": {
        "id": "M3Fk2TXLj_eF"
      },
      "execution_count": 12,
      "outputs": []
    },
    {
      "cell_type": "code",
      "source": [
        "model.fit(df.iloc[:,0:-1].values,df['placed'].values,epochs=75,verbose=1,batch_size=1)"
      ],
      "metadata": {
        "colab": {
          "base_uri": "https://localhost:8080/"
        },
        "id": "jL0uI3DSkFqw",
        "outputId": "b2a6ebb2-e5c7-4f02-a8c4-3841c3d76cea"
      },
      "execution_count": 13,
      "outputs": [
        {
          "output_type": "stream",
          "name": "stdout",
          "text": [
            "Epoch 1/75\n",
            "4/4 [==============================] - 1s 5ms/step - loss: 0.6943\n",
            "Epoch 2/75\n",
            "4/4 [==============================] - 0s 4ms/step - loss: 0.6939\n",
            "Epoch 3/75\n",
            "4/4 [==============================] - 0s 3ms/step - loss: 0.6942\n",
            "Epoch 4/75\n",
            "4/4 [==============================] - 0s 4ms/step - loss: 0.6940\n",
            "Epoch 5/75\n",
            "4/4 [==============================] - 0s 4ms/step - loss: 0.6938\n",
            "Epoch 6/75\n",
            "4/4 [==============================] - 0s 4ms/step - loss: 0.6939\n",
            "Epoch 7/75\n",
            "4/4 [==============================] - 0s 5ms/step - loss: 0.6937\n",
            "Epoch 8/75\n",
            "4/4 [==============================] - 0s 4ms/step - loss: 0.6938\n",
            "Epoch 9/75\n",
            "4/4 [==============================] - 0s 4ms/step - loss: 0.6937\n",
            "Epoch 10/75\n",
            "4/4 [==============================] - 0s 5ms/step - loss: 0.6937\n",
            "Epoch 11/75\n",
            "4/4 [==============================] - 0s 3ms/step - loss: 0.6937\n",
            "Epoch 12/75\n",
            "4/4 [==============================] - 0s 3ms/step - loss: 0.6936\n",
            "Epoch 13/75\n",
            "4/4 [==============================] - 0s 3ms/step - loss: 0.6937\n",
            "Epoch 14/75\n",
            "4/4 [==============================] - 0s 3ms/step - loss: 0.6936\n",
            "Epoch 15/75\n",
            "4/4 [==============================] - 0s 4ms/step - loss: 0.6938\n",
            "Epoch 16/75\n",
            "4/4 [==============================] - 0s 4ms/step - loss: 0.6937\n",
            "Epoch 17/75\n",
            "4/4 [==============================] - 0s 3ms/step - loss: 0.6935\n",
            "Epoch 18/75\n",
            "4/4 [==============================] - 0s 5ms/step - loss: 0.6935\n",
            "Epoch 19/75\n",
            "4/4 [==============================] - 0s 4ms/step - loss: 0.6935\n",
            "Epoch 20/75\n",
            "4/4 [==============================] - 0s 4ms/step - loss: 0.6935\n",
            "Epoch 21/75\n",
            "4/4 [==============================] - 0s 4ms/step - loss: 0.6934\n",
            "Epoch 22/75\n",
            "4/4 [==============================] - 0s 4ms/step - loss: 0.6935\n",
            "Epoch 23/75\n",
            "4/4 [==============================] - 0s 4ms/step - loss: 0.6934\n",
            "Epoch 24/75\n",
            "4/4 [==============================] - 0s 4ms/step - loss: 0.6934\n",
            "Epoch 25/75\n",
            "4/4 [==============================] - 0s 4ms/step - loss: 0.6933\n",
            "Epoch 26/75\n",
            "4/4 [==============================] - 0s 4ms/step - loss: 0.6935\n",
            "Epoch 27/75\n",
            "4/4 [==============================] - 0s 3ms/step - loss: 0.6934\n",
            "Epoch 28/75\n",
            "4/4 [==============================] - 0s 4ms/step - loss: 0.6934\n",
            "Epoch 29/75\n",
            "4/4 [==============================] - 0s 4ms/step - loss: 0.6933\n",
            "Epoch 30/75\n",
            "4/4 [==============================] - 0s 4ms/step - loss: 0.6933\n",
            "Epoch 31/75\n",
            "4/4 [==============================] - 0s 4ms/step - loss: 0.6933\n",
            "Epoch 32/75\n",
            "4/4 [==============================] - 0s 4ms/step - loss: 0.6933\n",
            "Epoch 33/75\n",
            "4/4 [==============================] - 0s 4ms/step - loss: 0.6932\n",
            "Epoch 34/75\n",
            "4/4 [==============================] - 0s 4ms/step - loss: 0.6932\n",
            "Epoch 35/75\n",
            "4/4 [==============================] - 0s 4ms/step - loss: 0.6932\n",
            "Epoch 36/75\n",
            "4/4 [==============================] - 0s 4ms/step - loss: 0.6932\n",
            "Epoch 37/75\n",
            "4/4 [==============================] - 0s 3ms/step - loss: 0.6931\n",
            "Epoch 38/75\n",
            "4/4 [==============================] - 0s 3ms/step - loss: 0.6932\n",
            "Epoch 39/75\n",
            "4/4 [==============================] - 0s 3ms/step - loss: 0.6933\n",
            "Epoch 40/75\n",
            "4/4 [==============================] - 0s 4ms/step - loss: 0.6931\n",
            "Epoch 41/75\n",
            "4/4 [==============================] - 0s 4ms/step - loss: 0.6931\n",
            "Epoch 42/75\n",
            "4/4 [==============================] - 0s 4ms/step - loss: 0.6933\n",
            "Epoch 43/75\n",
            "4/4 [==============================] - 0s 4ms/step - loss: 0.6932\n",
            "Epoch 44/75\n",
            "4/4 [==============================] - 0s 4ms/step - loss: 0.6930\n",
            "Epoch 45/75\n",
            "4/4 [==============================] - 0s 4ms/step - loss: 0.6930\n",
            "Epoch 46/75\n",
            "4/4 [==============================] - 0s 4ms/step - loss: 0.6930\n",
            "Epoch 47/75\n",
            "4/4 [==============================] - 0s 3ms/step - loss: 0.6932\n",
            "Epoch 48/75\n",
            "4/4 [==============================] - 0s 3ms/step - loss: 0.6931\n",
            "Epoch 49/75\n",
            "4/4 [==============================] - 0s 5ms/step - loss: 0.6930\n",
            "Epoch 50/75\n",
            "4/4 [==============================] - 0s 5ms/step - loss: 0.6930\n",
            "Epoch 51/75\n",
            "4/4 [==============================] - 0s 4ms/step - loss: 0.6929\n",
            "Epoch 52/75\n",
            "4/4 [==============================] - 0s 4ms/step - loss: 0.6931\n",
            "Epoch 53/75\n",
            "4/4 [==============================] - 0s 3ms/step - loss: 0.6929\n",
            "Epoch 54/75\n",
            "4/4 [==============================] - 0s 4ms/step - loss: 0.6930\n",
            "Epoch 55/75\n",
            "4/4 [==============================] - 0s 4ms/step - loss: 0.6929\n",
            "Epoch 56/75\n",
            "4/4 [==============================] - 0s 4ms/step - loss: 0.6931\n",
            "Epoch 57/75\n",
            "4/4 [==============================] - 0s 4ms/step - loss: 0.6929\n",
            "Epoch 58/75\n",
            "4/4 [==============================] - 0s 4ms/step - loss: 0.6928\n",
            "Epoch 59/75\n",
            "4/4 [==============================] - 0s 4ms/step - loss: 0.6928\n",
            "Epoch 60/75\n",
            "4/4 [==============================] - 0s 4ms/step - loss: 0.6928\n",
            "Epoch 61/75\n",
            "4/4 [==============================] - 0s 4ms/step - loss: 0.6928\n",
            "Epoch 62/75\n",
            "4/4 [==============================] - 0s 3ms/step - loss: 0.6929\n",
            "Epoch 63/75\n",
            "4/4 [==============================] - 0s 3ms/step - loss: 0.6928\n",
            "Epoch 64/75\n",
            "4/4 [==============================] - 0s 4ms/step - loss: 0.6931\n",
            "Epoch 65/75\n",
            "4/4 [==============================] - 0s 3ms/step - loss: 0.6928\n",
            "Epoch 66/75\n",
            "4/4 [==============================] - 0s 4ms/step - loss: 0.6927\n",
            "Epoch 67/75\n",
            "4/4 [==============================] - 0s 4ms/step - loss: 0.6927\n",
            "Epoch 68/75\n",
            "4/4 [==============================] - 0s 4ms/step - loss: 0.6929\n",
            "Epoch 69/75\n",
            "4/4 [==============================] - 0s 4ms/step - loss: 0.6927\n",
            "Epoch 70/75\n",
            "4/4 [==============================] - 0s 4ms/step - loss: 0.6928\n",
            "Epoch 71/75\n",
            "4/4 [==============================] - 0s 4ms/step - loss: 0.6927\n",
            "Epoch 72/75\n",
            "4/4 [==============================] - 0s 4ms/step - loss: 0.6927\n",
            "Epoch 73/75\n",
            "4/4 [==============================] - 0s 4ms/step - loss: 0.6926\n",
            "Epoch 74/75\n",
            "4/4 [==============================] - 0s 4ms/step - loss: 0.6926\n",
            "Epoch 75/75\n",
            "4/4 [==============================] - 0s 4ms/step - loss: 0.6926\n"
          ]
        },
        {
          "output_type": "execute_result",
          "data": {
            "text/plain": [
              "<keras.src.callbacks.History at 0x79d1c0126020>"
            ]
          },
          "metadata": {},
          "execution_count": 13
        }
      ]
    },
    {
      "cell_type": "code",
      "source": [
        "model.make_predict_function"
      ],
      "metadata": {
        "colab": {
          "base_uri": "https://localhost:8080/"
        },
        "id": "x1ssZXkNkWmv",
        "outputId": "e06502d4-98b8-4e7a-bf1e-3b6a830e3420"
      },
      "execution_count": 14,
      "outputs": [
        {
          "output_type": "execute_result",
          "data": {
            "text/plain": [
              "<bound method Model.make_predict_function of <keras.src.engine.sequential.Sequential object at 0x79d1c367f1f0>>"
            ]
          },
          "metadata": {},
          "execution_count": 14
        }
      ]
    },
    {
      "cell_type": "code",
      "source": [],
      "metadata": {
        "id": "e2mlFkgokdf5"
      },
      "execution_count": null,
      "outputs": []
    }
  ]
}